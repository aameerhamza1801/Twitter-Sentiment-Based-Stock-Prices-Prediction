{
 "cells": [
  {
   "cell_type": "code",
   "execution_count": 1,
   "metadata": {},
   "outputs": [
    {
     "name": "stderr",
     "output_type": "stream",
     "text": [
      "Using TensorFlow backend.\n"
     ]
    }
   ],
   "source": [
    "from textblob import TextBlob\n",
    "import tweepy\n",
    "import pandas as pd\n",
    "import numpy as np\n",
    "import matplotlib.pyplot as plt\n",
    "from keras.models import Sequential\n",
    "from keras.layers.core import Dense,Activation,Dropout\n",
    "from keras.layers.recurrent import LSTM\n",
    "import lstm"
   ]
  },
  {
   "cell_type": "code",
   "execution_count": 2,
   "metadata": {},
   "outputs": [],
   "source": [
    "# consumer keys and access tokens from the twitter app\n",
    "\n",
    "# ADD YOUR KEYS\n",
    "consumerKey = \"\" \n",
    "consumerSecret = \"\"\n",
    "accessToken = \"\"\n",
    "accessTokenSecret = \"\""
   ]
  },
  {
   "cell_type": "code",
   "execution_count": 3,
   "metadata": {},
   "outputs": [],
   "source": [
    "auth = tweepy.OAuthHandler(consumerKey, consumerSecret)\n",
    "auth.set_access_token(accessToken, accessTokenSecret)\n",
    "api = tweepy.API(auth)"
   ]
  },
  {
   "cell_type": "code",
   "execution_count": 18,
   "metadata": {},
   "outputs": [],
   "source": [
    "public_tweets = api.search(q= ['apple'], count =100)\n",
    "threshold = 0\n",
    "positive = 0\n",
    "negative = 0"
   ]
  },
  {
   "cell_type": "code",
   "execution_count": 5,
   "metadata": {},
   "outputs": [
    {
     "name": "stdout",
     "output_type": "stream",
     "text": [
      "Positive Sentiment. Get ready to Invest\n"
     ]
    }
   ],
   "source": [
    "for tweet in public_tweets:\n",
    "    analysis = TextBlob(tweet.text)\n",
    "    if analysis.sentiment.polarity > threshold:\n",
    "        positive = positive + 1\n",
    "    else:\n",
    "        negative = negative + 1\n",
    "if positive > negative:\n",
    "    print(\"Positive Sentiment. Get ready to Invest\")\n",
    "else:\n",
    "    print (\"Negative Sentiment. Dont invest\")"
   ]
  },
  {
   "cell_type": "code",
   "execution_count": 6,
   "metadata": {},
   "outputs": [
    {
     "data": {
      "text/html": [
       "<div>\n",
       "<style scoped>\n",
       "    .dataframe tbody tr th:only-of-type {\n",
       "        vertical-align: middle;\n",
       "    }\n",
       "\n",
       "    .dataframe tbody tr th {\n",
       "        vertical-align: top;\n",
       "    }\n",
       "\n",
       "    .dataframe thead th {\n",
       "        text-align: right;\n",
       "    }\n",
       "</style>\n",
       "<table border=\"1\" class=\"dataframe\">\n",
       "  <thead>\n",
       "    <tr style=\"text-align: right;\">\n",
       "      <th></th>\n",
       "      <th>Date</th>\n",
       "      <th>Open</th>\n",
       "      <th>High</th>\n",
       "      <th>Low</th>\n",
       "      <th>Close</th>\n",
       "      <th>Adj Close</th>\n",
       "      <th>Volume</th>\n",
       "    </tr>\n",
       "  </thead>\n",
       "  <tbody>\n",
       "    <tr>\n",
       "      <th>0</th>\n",
       "      <td>2013-10-21</td>\n",
       "      <td>73.110001</td>\n",
       "      <td>74.900002</td>\n",
       "      <td>73.074287</td>\n",
       "      <td>74.480003</td>\n",
       "      <td>67.871170</td>\n",
       "      <td>99526700</td>\n",
       "    </tr>\n",
       "    <tr>\n",
       "      <th>1</th>\n",
       "      <td>2013-10-22</td>\n",
       "      <td>75.201431</td>\n",
       "      <td>75.492859</td>\n",
       "      <td>72.575714</td>\n",
       "      <td>74.267143</td>\n",
       "      <td>67.677200</td>\n",
       "      <td>133515900</td>\n",
       "    </tr>\n",
       "    <tr>\n",
       "      <th>2</th>\n",
       "      <td>2013-10-23</td>\n",
       "      <td>74.142860</td>\n",
       "      <td>75.095711</td>\n",
       "      <td>74.142860</td>\n",
       "      <td>74.994286</td>\n",
       "      <td>68.339828</td>\n",
       "      <td>78430800</td>\n",
       "    </tr>\n",
       "    <tr>\n",
       "      <th>3</th>\n",
       "      <td>2013-10-24</td>\n",
       "      <td>75.000000</td>\n",
       "      <td>76.067146</td>\n",
       "      <td>74.635712</td>\n",
       "      <td>75.987144</td>\n",
       "      <td>69.244583</td>\n",
       "      <td>96191200</td>\n",
       "    </tr>\n",
       "    <tr>\n",
       "      <th>4</th>\n",
       "      <td>2013-10-25</td>\n",
       "      <td>75.902855</td>\n",
       "      <td>76.175713</td>\n",
       "      <td>75.015717</td>\n",
       "      <td>75.137146</td>\n",
       "      <td>68.470024</td>\n",
       "      <td>84448000</td>\n",
       "    </tr>\n",
       "  </tbody>\n",
       "</table>\n",
       "</div>"
      ],
      "text/plain": [
       "         Date       Open       High        Low      Close  Adj Close  \\\n",
       "0  2013-10-21  73.110001  74.900002  73.074287  74.480003  67.871170   \n",
       "1  2013-10-22  75.201431  75.492859  72.575714  74.267143  67.677200   \n",
       "2  2013-10-23  74.142860  75.095711  74.142860  74.994286  68.339828   \n",
       "3  2013-10-24  75.000000  76.067146  74.635712  75.987144  69.244583   \n",
       "4  2013-10-25  75.902855  76.175713  75.015717  75.137146  68.470024   \n",
       "\n",
       "      Volume  \n",
       "0   99526700  \n",
       "1  133515900  \n",
       "2   78430800  \n",
       "3   96191200  \n",
       "4   84448000  "
      ]
     },
     "execution_count": 6,
     "metadata": {},
     "output_type": "execute_result"
    }
   ],
   "source": [
    "df = pd.read_csv('AAPL.csv')\n",
    "df.head()"
   ]
  },
  {
   "cell_type": "code",
   "execution_count": 12,
   "metadata": {},
   "outputs": [
    {
     "data": {
      "text/plain": [
       "(1260,)"
      ]
     },
     "execution_count": 12,
     "metadata": {},
     "output_type": "execute_result"
    }
   ],
   "source": [
    "df1 = df['Adj Close']\n",
    "df1=df1.astype(float)\n",
    "df1.to_csv('close_price.csv', index =False)\n",
    "df1.shape"
   ]
  },
  {
   "cell_type": "code",
   "execution_count": 13,
   "metadata": {},
   "outputs": [],
   "source": [
    "X_train, y_train, X_test, y_test =lstm.load_data('close_price.csv', 50, True)"
   ]
  },
  {
   "cell_type": "code",
   "execution_count": 14,
   "metadata": {},
   "outputs": [],
   "source": [
    "model = Sequential()\n",
    "\n",
    "model.add(LSTM(input_dim = 1,output_dim = 50,return_sequences = True))\n",
    "model.add(Dropout(0.1))\n",
    "model.add(LSTM(100,return_sequences=False))\n",
    "model.add(Dropout(0.1))\n",
    "model.add(Dense(output_dim=1))\n",
    "model.add(Activation('linear'))\n",
    "model.compile (loss = 'mse', optimizer = 'rmsprop')"
   ]
  },
  {
   "cell_type": "code",
   "execution_count": 15,
   "metadata": {},
   "outputs": [
    {
     "name": "stdout",
     "output_type": "stream",
     "text": [
      "Train on 1034 samples, validate on 55 samples\n",
      "Epoch 1/1\n",
      "1034/1034 [==============================] - 11s 11ms/step - loss: 0.0012 - val_loss: 9.7323e-04\n"
     ]
    },
    {
     "data": {
      "text/plain": [
       "<keras.callbacks.History at 0x18907d79cc0>"
      ]
     },
     "execution_count": 15,
     "metadata": {},
     "output_type": "execute_result"
    }
   ],
   "source": [
    "model.fit(\n",
    "        X_train,\n",
    "        y_train,\n",
    "        batch_size =4,\n",
    "        nb_epoch = 1,\n",
    "        validation_split = 0.05)"
   ]
  },
  {
   "cell_type": "code",
   "execution_count": 17,
   "metadata": {},
   "outputs": [
    {
     "data": {
      "image/png": "[encoded data removed]",
      "text/plain": [
       "<Figure size 432x288 with 1 Axes>"
      ]
     },
     "metadata": {},
     "output_type": "display_data"
    }
   ],
   "source": [
    "predictions = lstm.predict_sequences_multiple(model, X_test, 20, 20)\n",
    "lstm.plot_results_multiple(predictions, y_test, 20)"
   ]
  },
  {
   "cell_type": "code",
   "execution_count": null,
   "metadata": {},
   "outputs": [],
   "source": []
  }
 ],
 "metadata": {
  "kernelspec": {
   "display_name": "Python 3",
   "language": "python",
   "name": "python3"
  },
  "language_info": {
   "codemirror_mode": {
    "name": "ipython",
    "version": 3
   },
   "file_extension": ".py",
   "mimetype": "text/x-python",
   "name": "python",
   "nbconvert_exporter": "python",
   "pygments_lexer": "ipython3",
   "version": "3.5.6"
  }
 },
 "nbformat": 4,
 "nbformat_minor": 2
}
